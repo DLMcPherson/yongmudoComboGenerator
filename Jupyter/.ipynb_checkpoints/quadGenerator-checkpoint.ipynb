{
 "cells": [
  {
   "cell_type": "code",
   "execution_count": 1,
   "id": "spoken-sense",
   "metadata": {},
   "outputs": [],
   "source": [
    "class Move:\n",
    "    def __init__(self,name):\n",
    "        self.name = name\n",
    "        #self.order = primary, secondary, tertiary\n",
    "        #self.distance = close, near, far\n",
    "        # to avoid turning back-knuckle/back-elbow awkward transitions\n",
    "        #self.startQuadrantThemToYou\n",
    "        #self.endQuadrantThemToYou\n",
    "        \n",
    "    def __repr__(self):\n",
    "        return(self.name)"
   ]
  },
  {
   "cell_type": "code",
   "execution_count": 2,
   "id": "offensive-chest",
   "metadata": {},
   "outputs": [],
   "source": [
    "moveList = []\n",
    "moveList.append(Move(\"Lead Punch\"))\n",
    "moveList.append(Move(\"Cross Punch\"))\n",
    "moveList.append(Move(\"Lead Forearm-shiver\"))\n",
    "moveList.append(Move(\"Turning Bottomfist\"))\n",
    "moveList.append(Move(\"Groin Strike\"))\n",
    "moveList.append(Move(\"Ridge Hand\"))\n",
    "moveList.append(Move(\"Lead Elbowstrike\"))\n",
    "moveList.append(Move(\"Cross Elbowstrike\"))\n",
    "moveList.append(Move(\"Elbow-uppercut\"))\n",
    "moveList.append(Move(\"Elbow-fallercut\"))\n",
    "moveList.append(Move(\"Lead Elbowstrike\"))\n",
    "moveList.append(Move(\"Turning Back-elbowstrike\"))\n",
    "moveList.append(Move(\"Returning Elbow-uppercut\"))\n",
    "#moveList.append(Move(\"Reverse Elbowstrike\"))\n",
    "moveList.append(Move(\"Lead Sidekick\"))\n",
    "moveList.append(Move(\"Back-turning Sidekick\"))\n",
    "#moveList.append(Move(\"Back-turning Sidekick\")) # 360\n",
    "moveList.append(Move(\"Shuttlekick\"))\n",
    "moveList.append(Move(\"Lead Roundhouse\"))\n",
    "moveList.append(Move(\"Cross Roundhouse\"))\n",
    "#moveList.append(Move(\"Cross Full-Roundhouse\")) # 360\n",
    "moveList.append(Move(\"Naraebang\"))\n",
    "moveList.append(Move(\"Lead Snapkick\"))\n",
    "moveList.append(Move(\"Cross Thrustkick\"))\n",
    "moveList.append(Move(\"Scissors Thrustkick\"))\n",
    "moveList.append(Move(\"Backturnslide into Lead Thrustkick\"))\n",
    "\n",
    "# Add some of the kicks from:\n",
    "# https://lhallock.github.io/ymd-ext/techniques/kicks.html"
   ]
  },
  {
   "cell_type": "code",
   "execution_count": 3,
   "id": "acquired-sunrise",
   "metadata": {},
   "outputs": [
    {
     "data": {
      "text/plain": [
       "[Groin Strike,\n",
       " Cross Thrustkick,\n",
       " Lead Forearm-shiver,\n",
       " Backturnslide into Lead Thrustkick]"
      ]
     },
     "execution_count": 3,
     "metadata": {},
     "output_type": "execute_result"
    }
   ],
   "source": [
    "import random\n",
    "\n",
    "# Generate a random quad\n",
    "random.sample(moveList,4)"
   ]
  },
  {
   "cell_type": "code",
   "execution_count": 12,
   "id": "mineral-scheduling",
   "metadata": {},
   "outputs": [],
   "source": []
  },
  {
   "cell_type": "code",
   "execution_count": null,
   "id": "prepared-avatar",
   "metadata": {},
   "outputs": [],
   "source": []
  }
 ],
 "metadata": {
  "kernelspec": {
   "display_name": "Python 3",
   "language": "python",
   "name": "python3"
  },
  "language_info": {
   "codemirror_mode": {
    "name": "ipython",
    "version": 3
   },
   "file_extension": ".py",
   "mimetype": "text/x-python",
   "name": "python",
   "nbconvert_exporter": "python",
   "pygments_lexer": "ipython3",
   "version": "3.9.0"
  }
 },
 "nbformat": 4,
 "nbformat_minor": 5
}
